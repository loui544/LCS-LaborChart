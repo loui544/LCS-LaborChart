{
 "cells": [
  {
   "cell_type": "code",
   "execution_count": 1,
   "metadata": {},
   "outputs": [],
   "source": [
    "import os\n",
    "import json\n",
    "import sys\n",
    "\n",
    "from transformers import AutoTokenizer, TFAutoModelForTokenClassification, pipeline\n",
    "from utilis import group_wordpiece_tokens, merge_grouped_tokens, group_adjacent_labels, ner_cleaning"
   ]
  },
  {
   "cell_type": "code",
   "execution_count": 2,
   "metadata": {},
   "outputs": [
    {
     "name": "stderr",
     "output_type": "stream",
     "text": [
      "All model checkpoint layers were used when initializing TFBertForTokenClassification.\n",
      "\n",
      "All the layers of TFBertForTokenClassification were initialized from the model checkpoint at afrodp95/bert-base-spanish-wwm-cased-finetuned-job-skills-ner.\n",
      "If your task is similar to the task the model of the checkpoint was trained on, you can already use TFBertForTokenClassification for predictions without further training.\n"
     ]
    }
   ],
   "source": [
    "## Load the Model and Instantiate the Token Classification Pipeline\n",
    "checkpoint = \"afrodp95/bert-base-spanish-wwm-cased-finetuned-job-skills-ner\"\n",
    "tokenizer = AutoTokenizer.from_pretrained(checkpoint)\n",
    "model = TFAutoModelForTokenClassification.from_pretrained(checkpoint)\n",
    "\n",
    "token_classifier = pipeline(\n",
    "    task=\"token-classification\",\n",
    "    model=model,\n",
    "    tokenizer=tokenizer,\n",
    "    framework=\"tf\",\n",
    "    ignore_labels=[],\n",
    ")"
   ]
  },
  {
   "cell_type": "code",
   "execution_count": 3,
   "metadata": {},
   "outputs": [],
   "source": [
    "with open(\"sample_texts.txt\",\"r\") as file:\n",
    "    job_descriptions = file.readlines()"
   ]
  },
  {
   "cell_type": "code",
   "execution_count": 4,
   "metadata": {},
   "outputs": [
    {
     "name": "stdout",
     "output_type": "stream",
     "text": [
      "Ignored unknown kwarg option direction\n",
      "Ignored unknown kwarg option direction\n"
     ]
    }
   ],
   "source": [
    "## Do NER using the pipeline\n",
    "predicted_labels = token_classifier(job_descriptions)"
   ]
  },
  {
   "cell_type": "code",
   "execution_count": 7,
   "metadata": {},
   "outputs": [],
   "source": [
    "labeled_entities = [\n",
    "    ner_cleaning(labels) for labels\n",
    "    in predicted_labels\n",
    "]"
   ]
  },
  {
   "cell_type": "code",
   "execution_count": 8,
   "metadata": {},
   "outputs": [
    {
     "data": {
      "text/plain": [
       "[{'entity': 'competencia-digital',\n",
       "  'score': 0.8225821,\n",
       "  'index': 8,\n",
       "  'word': 'Azure Synapse',\n",
       "  'start': 40,\n",
       "  'end': 53},\n",
       " {'entity': 'competencia-digital',\n",
       "  'score': 0.6956588,\n",
       "  'index': 10,\n",
       "  'word': 'Snowflake',\n",
       "  'start': 56,\n",
       "  'end': 65},\n",
       " {'entity': 'competencia-digital',\n",
       "  'score': 0.78671193,\n",
       "  'index': 12,\n",
       "  'word': 'Open Stack',\n",
       "  'start': 67,\n",
       "  'end': 77},\n",
       " {'entity': 'competencia-digital',\n",
       "  'score': 0.9049011,\n",
       "  'index': 26,\n",
       "  'word': 'AWS',\n",
       "  'start': 143,\n",
       "  'end': 146},\n",
       " {'entity': 'competencia-digital',\n",
       "  'score': 0.9106741,\n",
       "  'index': 28,\n",
       "  'word': 'S3',\n",
       "  'start': 148,\n",
       "  'end': 150},\n",
       " {'entity': 'competencia-digital',\n",
       "  'score': 0.7477684,\n",
       "  'index': 30,\n",
       "  'word': 'Snowflake',\n",
       "  'start': 152,\n",
       "  'end': 161},\n",
       " {'entity': 'competencia-digital',\n",
       "  'score': 0.9131969,\n",
       "  'index': 32,\n",
       "  'word': 'SQL',\n",
       "  'start': 163,\n",
       "  'end': 166},\n",
       " {'entity': 'competencia-digital',\n",
       "  'score': 0.8577089,\n",
       "  'index': 36,\n",
       "  'word': 'Python',\n",
       "  'start': 170,\n",
       "  'end': 176},\n",
       " {'entity': 'competencia-digital',\n",
       "  'score': 0.69251955,\n",
       "  'index': 42,\n",
       "  'word': 'SSIS',\n",
       "  'start': 193,\n",
       "  'end': 197},\n",
       " {'entity': 'competencia-digital',\n",
       "  'score': 0.6756144,\n",
       "  'index': 44,\n",
       "  'word': 'Data Factory',\n",
       "  'start': 199,\n",
       "  'end': 211},\n",
       " {'entity': 'competencia-tecnica',\n",
       "  'score': 0.4505286,\n",
       "  'index': 50,\n",
       "  'word': 'C1',\n",
       "  'start': 224,\n",
       "  'end': 226}]"
      ]
     },
     "execution_count": 8,
     "metadata": {},
     "output_type": "execute_result"
    }
   ],
   "source": [
    "labeled_entities[0]"
   ]
  },
  {
   "cell_type": "code",
   "execution_count": null,
   "metadata": {},
   "outputs": [],
   "source": []
  }
 ],
 "metadata": {
  "kernelspec": {
   "display_name": "hugginface",
   "language": "python",
   "name": "python3"
  },
  "language_info": {
   "codemirror_mode": {
    "name": "ipython",
    "version": 3
   },
   "file_extension": ".py",
   "mimetype": "text/x-python",
   "name": "python",
   "nbconvert_exporter": "python",
   "pygments_lexer": "ipython3",
   "version": "3.8.12"
  },
  "orig_nbformat": 4
 },
 "nbformat": 4,
 "nbformat_minor": 2
}
